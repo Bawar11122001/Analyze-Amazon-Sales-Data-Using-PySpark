{
  "nbformat": 4,
  "nbformat_minor": 0,
  "metadata": {
    "colab": {
      "provenance": [],
      "authorship_tag": "ABX9TyNWhLR4vo3AHReSCf6uxfoU",
      "include_colab_link": true
    },
    "kernelspec": {
      "name": "python3",
      "display_name": "Python 3"
    },
    "language_info": {
      "name": "python"
    }
  },
  "cells": [
    {
      "cell_type": "markdown",
      "metadata": {
        "id": "view-in-github",
        "colab_type": "text"
      },
      "source": [
        "<a href=\"https://colab.research.google.com/github/Bawar11122001/Analyze-Amazon-Sales-Data-Using-PySpark/blob/main/Amazon.ipynb\" target=\"_parent\"><img src=\"https://colab.research.google.com/assets/colab-badge.svg\" alt=\"Open In Colab\"/></a>"
      ]
    },
    {
      "cell_type": "markdown",
      "source": [
        "#Importing Required Libraries"
      ],
      "metadata": {
        "id": "CP-GvkB6yOPE"
      }
    },
    {
      "cell_type": "code",
      "execution_count": 7,
      "metadata": {
        "id": "qtyZqjukw5D-"
      },
      "outputs": [],
      "source": [
        "from pyspark.sql import SparkSession\n",
        "from pyspark.sql.functions import avg, count, desc, length, when, col"
      ]
    },
    {
      "cell_type": "markdown",
      "source": [
        "#Create DF1 By my Amazon.csv"
      ],
      "metadata": {
        "id": "rp1nnVsJyryA"
      }
    },
    {
      "cell_type": "code",
      "source": [
        "df1 = spark.read.format(\"csv\").option(\"header\", \"true\").load(\"/content/amazon.csv\")"
      ],
      "metadata": {
        "id": "S8h4ZJVuyxtf"
      },
      "execution_count": 10,
      "outputs": []
    },
    {
      "cell_type": "code",
      "source": [
        "df1.show()"
      ],
      "metadata": {
        "colab": {
          "base_uri": "https://localhost:8080/"
        },
        "id": "dOkJU81c85m8",
        "outputId": "91f7b5dc-ed74-4ccc-b884-a84e81b7bc9f"
      },
      "execution_count": 14,
      "outputs": [
        {
          "output_type": "stream",
          "name": "stdout",
          "text": [
            "+----------+--------------------+--------------------+----------------+------------+-------------------+------+------------+---------------------+--------------------+--------------------+--------------------+--------------------+--------------------+--------------------+--------------------+\n",
            "|product_id|        product_name|            category|discounted_price|actual_price|discount_percentage|rating|rating_count|        about_product|             user_id|           user_name|           review_id|        review_title|      review_content|            img_link|        product_link|\n",
            "+----------+--------------------+--------------------+----------------+------------+-------------------+------+------------+---------------------+--------------------+--------------------+--------------------+--------------------+--------------------+--------------------+--------------------+\n",
            "|B07JW9H4J1|Wayona Nylon Brai...|Computers&Accesso...|            ₹399|      ₹1,099|                64%|   4.2|      24,269| High Compatibilit...|AG3D6O4STAQKAY2UV...|Manav,Adarsh gupt...|R3HXWT0LRP0NMF,R2...|Satisfied,Chargin...|Looks durable Cha...|https://m.media-a...|https://www.amazo...|\n",
            "|B098NS6PVG|Ambrane Unbreakab...|Computers&Accesso...|            ₹199|        ₹349|                43%|   4.0|      43,994| Compatible with a...|AECPFYFQVRUWC3KGN...|ArdKn,Nirbhay kum...|RGIQEG07R9HS2,R1S...|A Good Braided Ca...|I ordered this ca...|https://m.media-a...|https://www.amazo...|\n",
            "|B096MSW6CT|Sounce Fast Phone...|Computers&Accesso...|            ₹199|      ₹1,899|                90%|   3.9|       7,928|【 Fast Charger& D...|AGU3BBQ2V2DDAMOAK...|Kunal,Himanshu,vi...|R3J3EQQ9TZI5ZJ,R3...|Good speed for ea...|Not quite durable...|https://m.media-a...|https://www.amazo...|\n",
            "|B08HDJ86NZ|boAt Deuce USB 30...|Computers&Accesso...|            ₹329|        ₹699|                53%|   4.2|      94,363| The boAt Deuce US...|AEWAZDZZJLQUYVOVG...|Omkar dhale,JD,HE...|R3EEUZKKK9J36I,R3...|Good product,Good...|Good product,long...|https://m.media-a...|https://www.amazo...|\n",
            "|B08CF3B7N1|Portronics Konnec...|Computers&Accesso...|            ₹154|        ₹399|                61%|   4.2|      16,905| [CHARGE & SYNC FU...|AE3Q6KSUK5P75D5HF...|rahuls6099,Swasat...|R1BP4L2HH9TFUP,R1...|As good as origin...|Bought this inste...|https://m.media-a...|https://www.amazo...|\n",
            "|B08Y1TFSP6|pTron Solero TB30...|Computers&Accesso...|            ₹149|      ₹1,000|                85%|   3.9|      24,871| Fast Charging & D...|AEQ2YMXSZWEOHK2EH...|Jayesh,Rajesh k.,...|R7S8ANNSDPR40,R3C...|It's pretty good,...|It's a good produ...|https://m.media-a...|https://www.amazo...|\n",
            "|B08WRWPM22|boAt Micro USB 55...|Computers&Accesso...|         ₹176.63|        ₹499|                65%|   4.1|      15,188| It Ensures High S...|AG7C6DAADCTRQJG2B...|Vivek kumar,Amazo...|R8E73K2KWJRDS,RSD...|Long durable.,goo...|Build quality is ...|https://m.media-a...|https://www.amazo...|\n",
            "|B08DDRGWTJ|MI Usb Type-C Cab...|Computers&Accesso...|            ₹229|        ₹299|                23%|   4.3|      30,411| 1m long Type-C US...|AHW6E5LQ2BDYOIVLA...|Pavan A H,Jayesh ...|R2X090D1YHACKR,R3...|Worth for money -...|Worth for money -...|https://m.media-a...|https://www.amazo...|\n",
            "|B008IFXQFU|TP-Link USB WiFi ...|Computers&Accesso...|            ₹499|        ₹999|                50%|   4.2|    1,79,691| USB WiFi Adapter ...|AGV3IEFANZCKECFGU...|Azhar JuMan,Aniru...|R1LW6NWSVTVZ2H,R3...|Works on linux fo...|I use this to con...|https://m.media-a...|https://www.amazo...|\n",
            "|B082LZGK39|Ambrane Unbreakab...|Computers&Accesso...|            ₹199|        ₹299|                33%|   4.0|      43,994| Universal Compati...|AECPFYFQVRUWC3KGN...|ArdKn,Nirbhay kum...|RGIQEG07R9HS2,R1S...|A Good Braided Ca...|I ordered this ca...|https://m.media-a...|https://www.amazo...|\n",
            "|B08CF3D7QR|Portronics Konnec...|Computers&Accesso...|            ₹154|        ₹339|                55%|   4.3|      13,391| [CHARGE & SYNC FU...|AGYLPKPZHVYKKZHOT...|Tanya,Anu,Akshay,...|R11MQS7WD9C3I0,R2...|Good for fast cha...|The cable is effi...|https://m.media-a...|https://www.amazo...|\n",
            "|B0789LZTCJ|boAt Rugged v3 Ex...|Computers&Accesso...|            ₹299|        ₹799|                63%|   4.2|      94,363| The boAt rugged c...|AEWAZDZZJLQUYVOVG...|Omkar dhale,JD,HE...|R3EEUZKKK9J36I,R3...|Good product,Good...|Good product,long...|https://m.media-a...|https://www.amazo...|\n",
            "|B07KSMBL2H|AmazonBasics Flex...|Electronics|HomeT...|            ₹219|        ₹700|                69%|   4.4|    4,26,973| Flexible, lightwe...|AEYJ5I6JZZPOJB6MG...|Rishav Gossain,Sh...|R1FKOKZ3HHKJBZ,R2...|It's quite good a...|I am using it for...|https://m.media-a...|https://www.amazo...|\n",
            "|B085DTN6R2|Portronics Konnec...|Computers&Accesso...|            ₹350|        ₹899|                61%|   4.2|       2,262| [20W PD FAST CHAR...|AGUAYQHARAKR2VZTR...|Priya,Mansi,Plaba...|R1QETDIPRCX4S0,RA...|Works,Nice Produc...|Definitely isn’t ...|https://m.media-a...|https://www.amazo...|\n",
            "|B09KLVMZ3B|Portronics Konnec...|Computers&Accesso...|            ₹159|        ₹399|                60%|   4.1|       4,768| [CHARGE & SYNC FU...|AF2XXVO7JUBUVAOBT...|Deepaak Singh,siv...|R20XIOU25HEX80,R2...|Great but,Worked ...|Loosing charging ...|https://m.media-a...|https://www.amazo...|\n",
            "|B083342NKJ|MI Braided USB Ty...|Computers&Accesso...|            ₹349|        ₹399|                13%|   4.4|      18,757| 1M Long Cable. Us...|AGSGSRTEZBQY64WO2...|Birendra ku Dash,...|R2JPQNKCOE10UK,RQ...|Good product,usin...|I like it 👍👍,Be...|https://m.media-a...|https://www.amazo...|\n",
            "|B0B6F7LX4C|MI 80 cm (32 inch...|Electronics|HomeT...|         ₹13,999|     ₹24,999|                44%|   4.2|      32,840| Note : The brands...|AHEVOQADJSSRX7DS3...|Manoj maddheshiya...|R13UTIA6KOF6QV,R2...|It is the best tv...|Pros- xiomi 5a is...|https://m.media-a...|https://www.amazo...|\n",
            "|B082LSVT4B|Ambrane Unbreakab...|Computers&Accesso...|            ₹249|        ₹399|                38%|   4.0|      43,994| Compatible with a...|AECPFYFQVRUWC3KGN...|ArdKn,Nirbhay kum...|RGIQEG07R9HS2,R1S...|A Good Braided Ca...|I ordered this ca...|https://m.media-a...|https://www.amazo...|\n",
            "|B08WRBG3XW|boAt Type C A325 ...|Computers&Accesso...|            ₹199|        ₹499|                60%|   4.1|      13,045| Type C A 325 Cabl...|AFB5KJR4Q5FICAHBO...|Rohan Narkar,JAGW...|R2BP8Y5OJXKJLF,R2...|Good for charging...|Check for offera ...|https://m.media-a...|https://www.amazo...|\n",
            "|B08DPLCM6T|LG 80 cm (32 inch...|Electronics|HomeT...|         ₹13,490|     ₹21,990|                39%|   4.3|      11,976| Resolution: HD Re...|AHBNKB74LGTYUOKPA...|NIRMAL.N,Manoj ku...|R2PNR69G0BQG2F,R3...|Sound quality,Ver...|LG was always Goo...|https://m.media-a...|https://www.amazo...|\n",
            "+----------+--------------------+--------------------+----------------+------------+-------------------+------+------------+---------------------+--------------------+--------------------+--------------------+--------------------+--------------------+--------------------+--------------------+\n",
            "only showing top 20 rows\n",
            "\n"
          ]
        }
      ]
    },
    {
      "cell_type": "code",
      "source": [
        "df1.printSchema()"
      ],
      "metadata": {
        "colab": {
          "base_uri": "https://localhost:8080/"
        },
        "id": "_T9kSLc79-WL",
        "outputId": "bcebc8a7-d293-4c26-95d7-dd7595f6732f"
      },
      "execution_count": 15,
      "outputs": [
        {
          "output_type": "stream",
          "name": "stdout",
          "text": [
            "root\n",
            " |-- product_id: string (nullable = true)\n",
            " |-- product_name: string (nullable = true)\n",
            " |-- category: string (nullable = true)\n",
            " |-- discounted_price: string (nullable = true)\n",
            " |-- actual_price: string (nullable = true)\n",
            " |-- discount_percentage: string (nullable = true)\n",
            " |-- rating: string (nullable = true)\n",
            " |-- rating_count: string (nullable = true)\n",
            " |-- about_product: string (nullable = true)\n",
            " |-- user_id: string (nullable = true)\n",
            " |-- user_name: string (nullable = true)\n",
            " |-- review_id: string (nullable = true)\n",
            " |-- review_title: string (nullable = true)\n",
            " |-- review_content: string (nullable = true)\n",
            " |-- img_link: string (nullable = true)\n",
            " |-- product_link: string (nullable = true)\n",
            "\n"
          ]
        }
      ]
    },
    {
      "cell_type": "markdown",
      "source": [
        "#To select only the product name"
      ],
      "metadata": {
        "id": "mT5XFgGL-6iv"
      }
    },
    {
      "cell_type": "code",
      "source": [
        "df1.select('product_name').show()"
      ],
      "metadata": {
        "colab": {
          "base_uri": "https://localhost:8080/"
        },
        "id": "dOy9Bkvi-PQ4",
        "outputId": "04ad7895-1aa4-41d4-830d-9159082c55ec"
      },
      "execution_count": 16,
      "outputs": [
        {
          "output_type": "stream",
          "name": "stdout",
          "text": [
            "+--------------------+\n",
            "|        product_name|\n",
            "+--------------------+\n",
            "|Wayona Nylon Brai...|\n",
            "|Ambrane Unbreakab...|\n",
            "|Sounce Fast Phone...|\n",
            "|boAt Deuce USB 30...|\n",
            "|Portronics Konnec...|\n",
            "|pTron Solero TB30...|\n",
            "|boAt Micro USB 55...|\n",
            "|MI Usb Type-C Cab...|\n",
            "|TP-Link USB WiFi ...|\n",
            "|Ambrane Unbreakab...|\n",
            "|Portronics Konnec...|\n",
            "|boAt Rugged v3 Ex...|\n",
            "|AmazonBasics Flex...|\n",
            "|Portronics Konnec...|\n",
            "|Portronics Konnec...|\n",
            "|MI Braided USB Ty...|\n",
            "|MI 80 cm (32 inch...|\n",
            "|Ambrane Unbreakab...|\n",
            "|boAt Type C A325 ...|\n",
            "|LG 80 cm (32 inch...|\n",
            "+--------------------+\n",
            "only showing top 20 rows\n",
            "\n"
          ]
        }
      ]
    },
    {
      "cell_type": "markdown",
      "source": [
        "#Top Products by Rating on Amazon"
      ],
      "metadata": {
        "id": "l2MnbOWM_yx2"
      }
    },
    {
      "cell_type": "code",
      "source": [
        "top_rated_product = df1.groupBy('product_id','product_name').agg(avg('rating').alias('avg_rating')).orderBy(desc('avg_rating')).limit(10)\n",
        "top_rated_product.show()"
      ],
      "metadata": {
        "colab": {
          "base_uri": "https://localhost:8080/"
        },
        "id": "yJOuU0qK__PA",
        "outputId": "9849031b-40bc-47ff-d68c-4169126cbc53"
      },
      "execution_count": 18,
      "outputs": [
        {
          "output_type": "stream",
          "name": "stdout",
          "text": [
            "+----------+--------------------+----------+\n",
            "|product_id|        product_name|avg_rating|\n",
            "+----------+--------------------+----------+\n",
            "|B0BQRJ3C47|REDTECH USB-C to ...|       5.0|\n",
            "|B09ZHCJDP1|Amazon Basics Wir...|       5.0|\n",
            "|B0BP7XLX48|Syncwire LTG to U...|       5.0|\n",
            "|B0B53DS4TF|Instant Pot Air F...|       4.8|\n",
            "|B0BQ3K23Y1|Oratech Coffee Fr...|       4.8|\n",
            "|B0BR4F878Q|Swiffer Instant E...|       4.8|\n",
            "|B0BLC2BYPX|Zuvexa USB Rechar...|       4.7|\n",
            "|B0B23LW7NV|Spigen EZ Fit Tem...|       4.7|\n",
            "|B0BM9H2NY9|Multifunctional 2...|       4.7|\n",
            "|B09WN3SRC7|Sony Bravia 164 c...|       4.7|\n",
            "+----------+--------------------+----------+\n",
            "\n"
          ]
        }
      ]
    },
    {
      "cell_type": "markdown",
      "source": [
        "#Most Reviewed Product"
      ],
      "metadata": {
        "id": "EpLmLaKOAckQ"
      }
    },
    {
      "cell_type": "code",
      "source": [
        "most_reviewed_product = df1.groupBy('product_id','product_name').count().orderBy(desc('count')).limit(10)\n",
        "most_reviewed_product.show()"
      ],
      "metadata": {
        "colab": {
          "base_uri": "https://localhost:8080/"
        },
        "id": "2yZvwVLhAh5T",
        "outputId": "8b7835ec-3fd1-48aa-b7cd-003f8096234b"
      },
      "execution_count": 19,
      "outputs": [
        {
          "output_type": "stream",
          "name": "stdout",
          "text": [
            "+----------+--------------------+-----+\n",
            "|product_id|        product_name|count|\n",
            "+----------+--------------------+-----+\n",
            "|B09YLXYP7Y|Ambrane 60W / 3A ...|    3|\n",
            "|B09C6HXFC1|Duracell USB Ligh...|    3|\n",
            "|B085DTN6R2|Portronics Konnec...|    3|\n",
            "|B082T6V3DT|AmazonBasics New ...|    3|\n",
            "|B08Y1TFSP6|pTron Solero TB30...|    3|\n",
            "|B08WRWPM22|boAt Micro USB 55...|    3|\n",
            "|B08HDJ86NZ|boAt Deuce USB 30...|    3|\n",
            "|B096MSW6CT|Sounce Fast Phone...|    3|\n",
            "|B08CF3D7QR|Portronics Konnec...|    3|\n",
            "|B08R69VDHT|Pinnaclz Original...|    3|\n",
            "+----------+--------------------+-----+\n",
            "\n"
          ]
        }
      ]
    },
    {
      "cell_type": "markdown",
      "source": [
        "#Discount Analysis"
      ],
      "metadata": {
        "id": "wpVChrdkBKNz"
      }
    },
    {
      "cell_type": "code",
      "source": [
        "discount_analysis = df1.groupBy('category').agg(avg('discount_percentage').alias('avg_discount'))\n",
        "discount_analysis.show()"
      ],
      "metadata": {
        "colab": {
          "base_uri": "https://localhost:8080/"
        },
        "id": "c4PeiIlwBgNi",
        "outputId": "54244de0-015c-47bc-ff4e-d2881866aa7a"
      },
      "execution_count": 20,
      "outputs": [
        {
          "output_type": "stream",
          "name": "stdout",
          "text": [
            "+--------------------+------------+\n",
            "|            category|avg_discount|\n",
            "+--------------------+------------+\n",
            "|           reminders|        NULL|\n",
            "|Computers&Accesso...|        NULL|\n",
            "|OfficeProducts|Of...|        NULL|\n",
            "|OfficeProducts|Of...|        NULL|\n",
            "|Electronics|Camer...|        NULL|\n",
            "|Computers&Accesso...|        NULL|\n",
            "|      TWS Connection|        NULL|\n",
            "|     123 Sports Mode|        NULL|\n",
            "|Computers&Accesso...|        NULL|\n",
            "|Computers&Accesso...|        NULL|\n",
            "|         81X800LGIN\"|        NULL|\n",
            "|Computers&Accesso...|        NULL|\n",
            "|Health&PersonalCa...|        NULL|\n",
            "|    170+ Watch Faces|        NULL|\n",
            "|Home&Kitchen|Kitc...|        NULL|\n",
            "|Home&Kitchen|Kitc...|        NULL|\n",
            "|     60 Sports Modes|        NULL|\n",
            "|OfficeProducts|Of...|        NULL|\n",
            "|Home&Kitchen|Heat...|        NULL|\n",
            "|Electronics|Mobil...|        NULL|\n",
            "+--------------------+------------+\n",
            "only showing top 20 rows\n",
            "\n"
          ]
        }
      ]
    },
    {
      "cell_type": "markdown",
      "source": [
        "#User Engagement"
      ],
      "metadata": {
        "id": "juroSTRnB2hN"
      }
    },
    {
      "cell_type": "code",
      "source": [
        "user_engagement = df1.groupBy('product_id').agg(avg('rating').alias('avg_rating'), count('rating').alias('rating_count'))\n",
        "user_engagement.show()"
      ],
      "metadata": {
        "colab": {
          "base_uri": "https://localhost:8080/"
        },
        "id": "W1Z-_DaiB6dV",
        "outputId": "69bb0855-d360-49c7-a720-03bf49a4375b"
      },
      "execution_count": 21,
      "outputs": [
        {
          "output_type": "stream",
          "name": "stdout",
          "text": [
            "+----------+----------+------------+\n",
            "|product_id|avg_rating|rating_count|\n",
            "+----------+----------+------------+\n",
            "|B0B3CQBRB4|       4.3|           1|\n",
            "|B09TWHTBKQ|       4.1|           1|\n",
            "|B09T2WRLJJ|       3.9|           1|\n",
            "|B09SJ1FTYV|       4.0|           1|\n",
            "|B09CTRPSJR|       3.8|           1|\n",
            "|B0B25DJ352|       4.3|           1|\n",
            "|B00NH11KIK|       4.5|           2|\n",
            "|B08CTNJ985|       4.3|           1|\n",
            "|B0BF54LXW6|      NULL|           1|\n",
            "|B098QXR9X2|       4.1|           1|\n",
            "|B00LOD70SC|       4.3|           1|\n",
            "|B07GLNJC25|       3.7|           1|\n",
            "|B0B2CPVXHX|       4.1|           1|\n",
            "|B00LY17RHI|       4.1|           1|\n",
            "|B07QMRHWJD|       4.3|           1|\n",
            "|B09Y5FZK9N|       3.7|           1|\n",
            "|B0BMTZ4T1D|       4.5|           1|\n",
            "|B07B275VN9|       3.7|           1|\n",
            "|B0B8CHJLWJ|       4.5|           1|\n",
            "|B07JQKQ91F|       3.9|           1|\n",
            "+----------+----------+------------+\n",
            "only showing top 20 rows\n",
            "\n"
          ]
        }
      ]
    },
    {
      "cell_type": "markdown",
      "source": [
        "#Creating Temp Table from DF1"
      ],
      "metadata": {
        "id": "4F62cR28Cni9"
      }
    },
    {
      "cell_type": "code",
      "source": [
        "df1.createOrReplaceTempView(\"amazon\")"
      ],
      "metadata": {
        "id": "2ki4GnpoC1Qo"
      },
      "execution_count": 22,
      "outputs": []
    },
    {
      "cell_type": "code",
      "source": [
        "result = spark.sql(\"SELECT * FROM amazon order by product_id desc limit 10\")\n",
        "result.show()"
      ],
      "metadata": {
        "colab": {
          "base_uri": "https://localhost:8080/"
        },
        "id": "jE86s6y7C8s3",
        "outputId": "e4eed0dc-6934-4923-8245-debbd28a8e8a"
      },
      "execution_count": 32,
      "outputs": [
        {
          "output_type": "stream",
          "name": "stdout",
          "text": [
            "+----------+--------------------+--------------------+--------------------+------------+--------------------+--------------------+------------+--------------------+--------------------+--------------------+--------------------+--------------------+--------------------+--------------------+--------------------+\n",
            "|product_id|        product_name|            category|    discounted_price|actual_price| discount_percentage|              rating|rating_count|       about_product|             user_id|           user_name|           review_id|        review_title|      review_content|            img_link|        product_link|\n",
            "+----------+--------------------+--------------------+--------------------+------------+--------------------+--------------------+------------+--------------------+--------------------+--------------------+--------------------+--------------------+--------------------+--------------------+--------------------+\n",
            "|B0BR4F878Q|Swiffer Instant E...|Home&Kitchen|Heat...|              ₹1,439|      ₹1,999|                 28%|                 4.8|      53,803|✔Quick Electric H...|AEU7DVFEL43XZ6T4D...|Yogita g.,Amazon ...|R2WHW4PEF14WOD,R2...|Best Product,It’s...|Must buy best Fab...|https://m.media-a...|https://www.amazo...|\n",
            "|B0BQRJ3C47|REDTECH USB-C to ...|Computers&Accesso...|                ₹249|        ₹999|                 75%|                 5.0|        NULL|💎[The Fastest Ch...|AGJC5O5H5BBXWUV7W...|         Abdul Gafur|       RQXD5SAMMPC6L|     Awesome Product|Quick delivery.Aw...|https://m.media-a...|https://www.amazo...|\n",
            "|B0BQ3K23Y1|Oratech Coffee Fr...|Home&Kitchen|Kitc...|                ₹279|        ₹499|                 44%|                 4.8|          28|-Make delicious m...|AGRJZJKWKIE573KM5...|Amazon Customer,N...|R3907SDNN9VR5Y,R1...|Oratech Best Coff...|Overall, I love t...|https://m.media-a...|https://www.amazo...|\n",
            "|B0BPJBTB3F|Khaitan ORFin Fan...|Home&Kitchen|Heat...|              ₹1,299|      ₹2,495|                 48%|                   2|           2|Khaitan Orfin Fan...|AGHT3K4KSG5MAQUSX...|Manidipa Sengupta...|R1OO2ED6615EX1,RR...|Bad quality,Amazi...|The heating capac...|https://m.media-a...|https://www.amazo...|\n",
            "|B0BPCJM7TB|WIDEWINGS Electri...|Home&Kitchen|Kitc...|                ₹259|        ₹999|                 74%|                   4|          43|The battery opera...|AFSZEPUJZUDS3NRVE...|Priti Sharma,ramy...|R35KB9ZGJU69DM,R2...|Nice frother,Nice...|This is my first ...|https://m.media-a...|https://www.amazo...|\n",
            "|B0BPBXNQQT|Room Heater Warme...|Home&Kitchen|Heat...|                ₹799|      ₹1,989|                 60%|                 4.3|          70|Fast Heating :- C...|AH7ZFZAWQV5VTWQHL...|Rajiv Ranjan Sing...|RZO6XGE3P1DX,R3RC...|Good for small ro...|If u have to heat...|https://m.media-a...|https://www.amazo...|\n",
            "|B0BPBG712X|Portable, Handy C...|Home&Kitchen|Heat...|                ₹799|      ₹1,199|                 33%|                 4.4|          17|Fast Heating :- C...|AEFNT7TWJYDOX5RL3...|Taniya singh,Abhi...|R32YNMGVH3EGMZ,R1...|Nice product,Best...|I m using  this f...|https://m.media-a...|https://www.amazo...|\n",
            "|B0BP89YBC1|Campfire Spring C...|Home&Kitchen|Heat...|              ₹1,499|      ₹3,500|                 57%|                 4.7|       2,591|Prolix Auto cut o...|AEVX4JV3C4QR3Y3V3...|Srujan kumar,Sadh...|RBPM3YRVWMMMK,RVY...|Felt very useful ...|I like instant he...|https://m.media-a...|https://www.amazo...|\n",
            "|B0BP7XLX48|Syncwire LTG to U...|Computers&Accesso...|                ₹399|      ₹1,999|                 80%|                 5.0|           5|This sturdy and d...|AF7EOXYL5K36BDP6P...|Amazon Customer,k...|R1L2JNO4Y3BHYF,R2...|Good,Superb quali...|Product is good i...|https://m.media-a...|https://www.amazo...|\n",
            "|B0BP18W8TM|\"Fire-Boltt Gladi...| Voice Assistant ...| 8 Unique UI Inte...|        SpO2| 24/7 Heart Rate ...|Electronics|Weara...|      ₹3,999|              ₹9,999|                 60%|                 4.4|                  73|\"Largest 1.96\"\" D...| listen to music ...| birthdays or col...| enable all the s...|\n",
            "+----------+--------------------+--------------------+--------------------+------------+--------------------+--------------------+------------+--------------------+--------------------+--------------------+--------------------+--------------------+--------------------+--------------------+--------------------+\n",
            "\n"
          ]
        }
      ]
    },
    {
      "cell_type": "markdown",
      "source": [],
      "metadata": {
        "id": "kiIY_FUj_4EK"
      }
    }
  ]
}